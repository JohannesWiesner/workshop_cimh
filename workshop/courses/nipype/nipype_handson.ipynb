{
 "cells": [
  {
   "cell_type": "markdown",
   "metadata": {},
   "source": [
    "# Now it's your turn!"
   ]
  },
  {
   "cell_type": "markdown",
   "metadata": {},
   "source": [
    "## Create a preprocessing workflow that includes Realignment, Coregistration, Normalization and Smoothing"
   ]
  },
  {
   "cell_type": "markdown",
   "metadata": {},
   "source": [
    "### Setup "
   ]
  },
  {
   "cell_type": "code",
   "execution_count": 25,
   "metadata": {},
   "outputs": [
    {
     "name": "stderr",
     "output_type": "stream",
     "text": [
      "stty: 'standard input': Inappropriate ioctl for device\n"
     ]
    }
   ],
   "source": [
    "# import all the stuff that you need\n",
    "from nipype.interfaces import spm\n",
    "from nipype import Workflow, Node\n",
    "import os\n",
    "\n",
    "# get current working directory\n",
    "working_directory = os.getcwd()\n",
    "\n",
    "# configure spm\n",
    "spm.SPMCommand.set_mlab_paths(matlab_cmd='/opt/matlab/R2022a/bin/matlab', paths='/opt/matlab/toolboxes/spm12', use_mcr=False)\n",
    "\n",
    "# get paths to functional and anatomical images\n",
    "fmri_img = os.path.join(working_directory,'data/fmri_img.nii')\n",
    "anatomical_img = os.path.join(working_directory,'data/spm_auditory/sub001/sM00223/sM00223_002.img')"
   ]
  },
  {
   "cell_type": "markdown",
   "metadata": {},
   "source": [
    "### Set up all the nodes we need for preprocessing"
   ]
  },
  {
   "cell_type": "code",
   "execution_count": 68,
   "metadata": {},
   "outputs": [
    {
     "name": "stderr",
     "output_type": "stream",
     "text": [
      "stty: 'standard input': Inappropriate ioctl for device\n"
     ]
    }
   ],
   "source": [
    "# Use Realign for motion correction and register all images to the mean image. Since this is the first node, we have to provide with the filepath \n",
    "realign = Node(interface=spm.Realign(in_files=[fmri_img],jobtype='estwrite'), name=\"realign\")\n",
    "\n",
    "# Use Coregister to perform a rigid body registration of the functional data to the structural data. We have to provide it with the anatomical image\n",
    "coregister = Node(interface=spm.Coregister(source=[anatomical_img]), name=\"coregister\")\n",
    "\n",
    "# Segment the coregistered structural image\n",
    "segment = Node(interface=spm.NewSegment(channel_info=(0.0001,60,(True,True)),write_deformation_fields=[False,True]), name=\"segment\")\n",
    "tpm_img ='/opt/matlab/toolboxes/spm12/tpm/TPM.nii'\n",
    "tissue1 = ((tpm_img, 1), 1, (True,False), (False, False))\n",
    "tissue2 = ((tpm_img, 2), 1, (True,False), (False, False))\n",
    "tissue3 = ((tpm_img, 3), 2, (True,False), (False, False))\n",
    "tissue4 = ((tpm_img, 4), 3, (False,False), (False, False))\n",
    "tissue5 = ((tpm_img, 5), 4, (False,False), (False, False))\n",
    "tissue6 = ((tpm_img, 6), 2, (False,False), (False, False))\n",
    "tissues = [tissue1, tissue2, tissue3, tissue4, tissue5, tissue6]\n",
    "segment.inputs.tissues = tissues\n",
    "\n",
    "# Warp functional and structural data to SPM’s T1 template using Normalize.\n",
    "normalize = Node(interface=spm.Normalize12(), name=\"normalize_func\")\n",
    "\n",
    "# Smooth the functional data using Smooth\n",
    "smooth = Node(interface=spm.Smooth(), name=\"smooth\")"
   ]
  },
  {
   "cell_type": "markdown",
   "metadata": {},
   "source": [
    "### Setup the workflow and run it"
   ]
  },
  {
   "cell_type": "code",
   "execution_count": 70,
   "metadata": {},
   "outputs": [
    {
     "name": "stdout",
     "output_type": "stream",
     "text": [
      "230421-17:45:18,93 nipype.workflow INFO:\n",
      "\t Workflow preprocessing_wf settings: ['check', 'execution', 'logging', 'monitoring']\n",
      "230421-17:45:18,97 nipype.workflow INFO:\n",
      "\t Running serially.\n",
      "230421-17:45:18,97 nipype.workflow INFO:\n",
      "\t [Node] Setting-up \"preprocessing_wf.realign\" in \"/home/johannes.wiesner/work/repos/workshop_cimh/workshop/courses/nipype/preprocessing_wf/realign\".\n",
      "230421-17:45:18,99 nipype.workflow INFO:\n",
      "\t [Node] Cached \"preprocessing_wf.realign\" - collecting precomputed outputs\n",
      "230421-17:45:18,99 nipype.workflow INFO:\n",
      "\t [Node] \"preprocessing_wf.realign\" found cached.\n",
      "230421-17:45:18,99 nipype.workflow INFO:\n",
      "\t [Node] Setting-up \"preprocessing_wf.coregister\" in \"/home/johannes.wiesner/work/repos/workshop_cimh/workshop/courses/nipype/preprocessing_wf/coregister\".\n",
      "230421-17:45:18,101 nipype.workflow INFO:\n",
      "\t [Node] Cached \"preprocessing_wf.coregister\" - collecting precomputed outputs\n",
      "230421-17:45:18,101 nipype.workflow INFO:\n",
      "\t [Node] \"preprocessing_wf.coregister\" found cached.\n",
      "230421-17:45:18,102 nipype.workflow INFO:\n",
      "\t [Node] Setting-up \"preprocessing_wf.segment\" in \"/home/johannes.wiesner/work/repos/workshop_cimh/workshop/courses/nipype/preprocessing_wf/segment\".\n",
      "230421-17:45:18,103 nipype.workflow INFO:\n",
      "\t [Node] Outdated cache found for \"preprocessing_wf.segment\".\n",
      "230421-17:45:18,108 nipype.workflow INFO:\n",
      "\t [Node] Executing \"segment\" <nipype.interfaces.spm.preprocess.NewSegment>\n"
     ]
    },
    {
     "name": "stderr",
     "output_type": "stream",
     "text": [
      "stty: 'standard input': Inappropriate ioctl for device\n"
     ]
    },
    {
     "name": "stdout",
     "output_type": "stream",
     "text": [
      "230421-17:46:12,298 nipype.workflow INFO:\n",
      "\t [Node] Finished \"segment\", elapsed time 47.884242s.\n",
      "230421-17:46:12,301 nipype.workflow INFO:\n",
      "\t [Node] Setting-up \"preprocessing_wf.normalize_func\" in \"/home/johannes.wiesner/work/repos/workshop_cimh/workshop/courses/nipype/preprocessing_wf/normalize_func\".\n",
      "230421-17:46:12,303 nipype.workflow INFO:\n",
      "\t [Node] Executing \"normalize_func\" <nipype.interfaces.spm.preprocess.Normalize12>\n"
     ]
    },
    {
     "name": "stderr",
     "output_type": "stream",
     "text": [
      "stty: 'standard input': Inappropriate ioctl for device\n"
     ]
    },
    {
     "name": "stdout",
     "output_type": "stream",
     "text": [
      "230421-17:46:22,662 nipype.workflow INFO:\n",
      "\t [Node] Finished \"normalize_func\", elapsed time 10.357802s.\n",
      "230421-17:46:22,662 nipype.workflow WARNING:\n",
      "\t Storing result file without outputs\n",
      "230421-17:46:22,663 nipype.workflow WARNING:\n",
      "\t [Node] Error on \"preprocessing_wf.normalize_func\" (/home/johannes.wiesner/work/repos/workshop_cimh/workshop/courses/nipype/preprocessing_wf/normalize_func)\n",
      "230421-17:46:22,664 nipype.workflow ERROR:\n",
      "\t Node normalize_func failed to run on host pf41jell.zi.local.\n",
      "230421-17:46:22,664 nipype.workflow ERROR:\n",
      "\t Saving crash info to /home/johannes.wiesner/work/repos/workshop_cimh/workshop/courses/nipype/crash-20230421-174622-johannes.wiesner-normalize_func-2010ce03-47b4-4e7a-ac27-35da0cc8faa4.pklz\n",
      "Traceback (most recent call last):\n",
      "  File \"/home/johannes.wiesner/.conda/envs/csp_wiesner_johannes/lib/python3.9/site-packages/nipype/pipeline/plugins/linear.py\", line 47, in run\n",
      "    node.run(updatehash=updatehash)\n",
      "  File \"/home/johannes.wiesner/.conda/envs/csp_wiesner_johannes/lib/python3.9/site-packages/nipype/pipeline/engine/nodes.py\", line 527, in run\n",
      "    result = self._run_interface(execute=True)\n",
      "  File \"/home/johannes.wiesner/.conda/envs/csp_wiesner_johannes/lib/python3.9/site-packages/nipype/pipeline/engine/nodes.py\", line 645, in _run_interface\n",
      "    return self._run_command(execute)\n",
      "  File \"/home/johannes.wiesner/.conda/envs/csp_wiesner_johannes/lib/python3.9/site-packages/nipype/pipeline/engine/nodes.py\", line 771, in _run_command\n",
      "    raise NodeExecutionError(msg)\n",
      "nipype.pipeline.engine.nodes.NodeExecutionError: Exception raised while executing Node normalize_func.\n",
      "\n",
      "Traceback:\n",
      "\tTraceback (most recent call last):\n",
      "\t  File \"/home/johannes.wiesner/.conda/envs/csp_wiesner_johannes/lib/python3.9/site-packages/nipype/interfaces/base/core.py\", line 398, in run\n",
      "\t    runtime = self._run_interface(runtime)\n",
      "\t  File \"/home/johannes.wiesner/.conda/envs/csp_wiesner_johannes/lib/python3.9/site-packages/nipype/interfaces/spm/base.py\", line 387, in _run_interface\n",
      "\t    results = self.mlab.run()\n",
      "\t  File \"/home/johannes.wiesner/.conda/envs/csp_wiesner_johannes/lib/python3.9/site-packages/nipype/interfaces/base/core.py\", line 398, in run\n",
      "\t    runtime = self._run_interface(runtime)\n",
      "\t  File \"/home/johannes.wiesner/.conda/envs/csp_wiesner_johannes/lib/python3.9/site-packages/nipype/interfaces/matlab.py\", line 164, in _run_interface\n",
      "\t    self.raise_exception(runtime)\n",
      "\t  File \"/home/johannes.wiesner/.conda/envs/csp_wiesner_johannes/lib/python3.9/site-packages/nipype/interfaces/base/core.py\", line 686, in raise_exception\n",
      "\t    raise RuntimeError(\n",
      "\tRuntimeError: Command:\n",
      "\t/opt/matlab/R2022a/bin/matlab -nodesktop -nosplash -singleCompThread -r \"addpath('/home/johannes.wiesner/work/repos/workshop_cimh/workshop/courses/nipype/preprocessing_wf/normalize_func');pyscript_normalize12;exit\"\n",
      "\tStandard output:\n",
      "\tMATLAB is selecting SOFTWARE OPENGL rendering.\n",
      "\n",
      "\t                            < M A T L A B (R) >\n",
      "\t                  Copyright 1984-2022 The MathWorks, Inc.\n",
      "\t                  R2022a (9.12.0.1884302) 64-bit (glnxa64)\n",
      "\t                             February 16, 2022\n",
      "\n",
      " \n",
      "\tTo get started, type doc.\n",
      "\tFor product information, visit www.mathworks.com.\n",
      " \n",
      "\t    ----------------------------------------------------\n",
      "\t\tYour license will expire in 9 days.\n",
      "\t\tPlease contact your system administrator or\n",
      "\t\tMathWorks to renew this license.\n",
      "\t    ----------------------------------------------------\n",
      "\tExecuting pyscript_normalize12 at 21-Apr-2023 17:46:15:\n",
      "\tExecuting pyscript_normalize12 at 21-Apr-2023 17:46:15:\n",
      "\t-----------------------------------------------------------------------------------------------------\n",
      "\tMATLAB Version: 9.12.0.1884302 (R2022a)\n",
      "\tMATLAB License Number: 886879\n",
      "\tOperating System: Linux 5.15.0-52-generic #58-Ubuntu SMP Thu Oct 13 08:03:55 UTC 2022 x86_64\n",
      "\tJava Version: Java 1.8.0_202-b08 with Oracle Corporation Java HotSpot(TM) 64-Bit Server VM mixed mode\n",
      "\t-----------------------------------------------------------------------------------------------------\n",
      "\tMATLAB                                                Version 9.12        (R2022a)\n",
      "\tAutomated Driving Toolbox                             Version 3.5         (R2022a)\n",
      "\tBioinformatics Toolbox                                Version 4.16        (R2022a)\n",
      "\tComputer Vision Toolbox                               Version 10.2        (R2022a)\n",
      "\tCurve Fitting Toolbox                                 Version 3.7         (R2022a)\n",
      "\tDSP System Toolbox                                    Version 9.14        (R2022a)\n",
      "\tEconometrics Toolbox                                  Version 6.0         (R2022a)\n",
      "\tImage Processing Toolbox                              Version 11.5        (R2022a)\n",
      "\tInstrument Control Toolbox                            Version 4.6         (R2022a)\n",
      "\tMATLAB Compiler                                       Version 8.4         (R2022a)\n",
      "\tOptimization Toolbox                                  Version 9.3         (R2022a)\n",
      "\tParallel Computing Toolbox                            Version 7.6         (R2022a)\n",
      "\tSignal Processing Toolbox                             Version 9.0         (R2022a)\n",
      "\tStatistical Parametric Mapping                        Version 7771        (SPM12) \n",
      "\tStatistics and Machine Learning Toolbox               Version 12.3        (R2022a)\n",
      "\tSymbolic Math Toolbox                                 Version 9.1         (R2022a)\n",
      "\tWavelet Toolbox                                       Version 6.1         (R2022a)\n",
      "\tSPM version: SPM12 Release: 7771\n",
      "\tSPM path: /opt/matlab/toolboxes/spm12/spm.m\n",
      "\tItem subj: No field(s) named\n",
      "\tdef\n",
      "\tStandard error:\n",
      "\tMATLAB code threw an exception:\n",
      "\tNo executable modules, but still unresolved dependencies or incomplete module inputs.\n",
      "\tFile:/opt/matlab/toolboxes/spm12/spm_jobman.m\n",
      "\tName:/opt/matlab/toolboxes/spm12/spm_jobman.m\n",
      "\tLine:47\n",
      "\tFile:home/johannes.wiesner/work/repos/workshop_cimh/workshop/courses/nipype/preprocessing_wf/normalize_func/pyscript_normalize12.m\n",
      "\tName:fill_run_job\n",
      "\tLine:115\n",
      "\tFile:pm_jobman\n",
      "\tName:pyscript_normalize12\n",
      "\tLine:472\n",
      "\tFile:÷\n",
      "\tName:\n",
      "\n",
      "\tLine:\n",
      "\tReturn code: 0\n",
      "\n",
      "\n",
      "230421-17:46:22,665 nipype.workflow INFO:\n",
      "\t ***********************************\n",
      "230421-17:46:22,666 nipype.workflow ERROR:\n",
      "\t could not run node: preprocessing_wf.normalize_func\n",
      "230421-17:46:22,666 nipype.workflow INFO:\n",
      "\t crashfile: /home/johannes.wiesner/work/repos/workshop_cimh/workshop/courses/nipype/crash-20230421-174622-johannes.wiesner-normalize_func-2010ce03-47b4-4e7a-ac27-35da0cc8faa4.pklz\n",
      "230421-17:46:22,666 nipype.workflow INFO:\n",
      "\t ***********************************\n"
     ]
    },
    {
     "name": "stderr",
     "output_type": "stream",
     "text": [
      "stty: 'standard input': Inappropriate ioctl for device\n"
     ]
    },
    {
     "ename": "NodeExecutionError",
     "evalue": "Exception raised while executing Node normalize_func.\n\nTraceback:\n\tTraceback (most recent call last):\n\t  File \"/home/johannes.wiesner/.conda/envs/csp_wiesner_johannes/lib/python3.9/site-packages/nipype/interfaces/base/core.py\", line 398, in run\n\t    runtime = self._run_interface(runtime)\n\t  File \"/home/johannes.wiesner/.conda/envs/csp_wiesner_johannes/lib/python3.9/site-packages/nipype/interfaces/spm/base.py\", line 387, in _run_interface\n\t    results = self.mlab.run()\n\t  File \"/home/johannes.wiesner/.conda/envs/csp_wiesner_johannes/lib/python3.9/site-packages/nipype/interfaces/base/core.py\", line 398, in run\n\t    runtime = self._run_interface(runtime)\n\t  File \"/home/johannes.wiesner/.conda/envs/csp_wiesner_johannes/lib/python3.9/site-packages/nipype/interfaces/matlab.py\", line 164, in _run_interface\n\t    self.raise_exception(runtime)\n\t  File \"/home/johannes.wiesner/.conda/envs/csp_wiesner_johannes/lib/python3.9/site-packages/nipype/interfaces/base/core.py\", line 686, in raise_exception\n\t    raise RuntimeError(\n\tRuntimeError: Command:\n\t/opt/matlab/R2022a/bin/matlab -nodesktop -nosplash -singleCompThread -r \"addpath('/home/johannes.wiesner/work/repos/workshop_cimh/workshop/courses/nipype/preprocessing_wf/normalize_func');pyscript_normalize12;exit\"\n\tStandard output:\n\tMATLAB is selecting SOFTWARE OPENGL rendering.\n\n\t                            < M A T L A B (R) >\n\t                  Copyright 1984-2022 The MathWorks, Inc.\n\t                  R2022a (9.12.0.1884302) 64-bit (glnxa64)\n\t                             February 16, 2022\n\n \n\tTo get started, type doc.\n\tFor product information, visit www.mathworks.com.\n \n\t    ----------------------------------------------------\n\t\tYour license will expire in 9 days.\n\t\tPlease contact your system administrator or\n\t\tMathWorks to renew this license.\n\t    ----------------------------------------------------\n\tExecuting pyscript_normalize12 at 21-Apr-2023 17:46:15:\n\tExecuting pyscript_normalize12 at 21-Apr-2023 17:46:15:\n\t-----------------------------------------------------------------------------------------------------\n\tMATLAB Version: 9.12.0.1884302 (R2022a)\n\tMATLAB License Number: 886879\n\tOperating System: Linux 5.15.0-52-generic #58-Ubuntu SMP Thu Oct 13 08:03:55 UTC 2022 x86_64\n\tJava Version: Java 1.8.0_202-b08 with Oracle Corporation Java HotSpot(TM) 64-Bit Server VM mixed mode\n\t-----------------------------------------------------------------------------------------------------\n\tMATLAB                                                Version 9.12        (R2022a)\n\tAutomated Driving Toolbox                             Version 3.5         (R2022a)\n\tBioinformatics Toolbox                                Version 4.16        (R2022a)\n\tComputer Vision Toolbox                               Version 10.2        (R2022a)\n\tCurve Fitting Toolbox                                 Version 3.7         (R2022a)\n\tDSP System Toolbox                                    Version 9.14        (R2022a)\n\tEconometrics Toolbox                                  Version 6.0         (R2022a)\n\tImage Processing Toolbox                              Version 11.5        (R2022a)\n\tInstrument Control Toolbox                            Version 4.6         (R2022a)\n\tMATLAB Compiler                                       Version 8.4         (R2022a)\n\tOptimization Toolbox                                  Version 9.3         (R2022a)\n\tParallel Computing Toolbox                            Version 7.6         (R2022a)\n\tSignal Processing Toolbox                             Version 9.0         (R2022a)\n\tStatistical Parametric Mapping                        Version 7771        (SPM12) \n\tStatistics and Machine Learning Toolbox               Version 12.3        (R2022a)\n\tSymbolic Math Toolbox                                 Version 9.1         (R2022a)\n\tWavelet Toolbox                                       Version 6.1         (R2022a)\n\tSPM version: SPM12 Release: 7771\n\tSPM path: /opt/matlab/toolboxes/spm12/spm.m\n\tItem subj: No field(s) named\n\tdef\n\tStandard error:\n\tMATLAB code threw an exception:\n\tNo executable modules, but still unresolved dependencies or incomplete module inputs.\n\tFile:/opt/matlab/toolboxes/spm12/spm_jobman.m\n\tName:/opt/matlab/toolboxes/spm12/spm_jobman.m\n\tLine:47\n\tFile:home/johannes.wiesner/work/repos/workshop_cimh/workshop/courses/nipype/preprocessing_wf/normalize_func/pyscript_normalize12.m\n\tName:fill_run_job\n\tLine:115\n\tFile:pm_jobman\n\tName:pyscript_normalize12\n\tLine:472\n\tFile:÷\n\tName:\n\n\tLine:\n\tReturn code: 0\n",
     "output_type": "error",
     "traceback": [
      "\u001b[0;31m---------------------------------------------------------------------------\u001b[0m",
      "\u001b[0;31mNodeExecutionError\u001b[0m                        Traceback (most recent call last)",
      "Cell \u001b[0;32mIn[70], line 5\u001b[0m\n\u001b[1;32m      3\u001b[0m preprocessing_wf\u001b[39m.\u001b[39mconnect(coregister,\u001b[39m'\u001b[39m\u001b[39mcoregistered_source\u001b[39m\u001b[39m'\u001b[39m,segment,\u001b[39m'\u001b[39m\u001b[39mchannel_files\u001b[39m\u001b[39m'\u001b[39m)\n\u001b[1;32m      4\u001b[0m preprocessing_wf\u001b[39m.\u001b[39mconnect(segment,\u001b[39m'\u001b[39m\u001b[39mforward_deformation_field\u001b[39m\u001b[39m'\u001b[39m,normalize,\u001b[39m'\u001b[39m\u001b[39mdeformation_file\u001b[39m\u001b[39m'\u001b[39m)\n\u001b[0;32m----> 5\u001b[0m preprocessing_wf\u001b[39m.\u001b[39;49mrun()\n",
      "File \u001b[0;32m~/.conda/envs/csp_wiesner_johannes/lib/python3.9/site-packages/nipype/pipeline/engine/workflows.py:638\u001b[0m, in \u001b[0;36mWorkflow.run\u001b[0;34m(self, plugin, plugin_args, updatehash)\u001b[0m\n\u001b[1;32m    636\u001b[0m \u001b[39mif\u001b[39;00m str2bool(\u001b[39mself\u001b[39m\u001b[39m.\u001b[39mconfig[\u001b[39m\"\u001b[39m\u001b[39mexecution\u001b[39m\u001b[39m\"\u001b[39m][\u001b[39m\"\u001b[39m\u001b[39mcreate_report\u001b[39m\u001b[39m\"\u001b[39m]):\n\u001b[1;32m    637\u001b[0m     \u001b[39mself\u001b[39m\u001b[39m.\u001b[39m_write_report_info(\u001b[39mself\u001b[39m\u001b[39m.\u001b[39mbase_dir, \u001b[39mself\u001b[39m\u001b[39m.\u001b[39mname, execgraph)\n\u001b[0;32m--> 638\u001b[0m runner\u001b[39m.\u001b[39;49mrun(execgraph, updatehash\u001b[39m=\u001b[39;49mupdatehash, config\u001b[39m=\u001b[39;49m\u001b[39mself\u001b[39;49m\u001b[39m.\u001b[39;49mconfig)\n\u001b[1;32m    639\u001b[0m datestr \u001b[39m=\u001b[39m datetime\u001b[39m.\u001b[39mutcnow()\u001b[39m.\u001b[39mstrftime(\u001b[39m\"\u001b[39m\u001b[39m%\u001b[39m\u001b[39mY\u001b[39m\u001b[39m%\u001b[39m\u001b[39mm\u001b[39m\u001b[39m%d\u001b[39;00m\u001b[39mT\u001b[39m\u001b[39m%\u001b[39m\u001b[39mH\u001b[39m\u001b[39m%\u001b[39m\u001b[39mM\u001b[39m\u001b[39m%\u001b[39m\u001b[39mS\u001b[39m\u001b[39m\"\u001b[39m)\n\u001b[1;32m    640\u001b[0m \u001b[39mif\u001b[39;00m str2bool(\u001b[39mself\u001b[39m\u001b[39m.\u001b[39mconfig[\u001b[39m\"\u001b[39m\u001b[39mexecution\u001b[39m\u001b[39m\"\u001b[39m][\u001b[39m\"\u001b[39m\u001b[39mwrite_provenance\u001b[39m\u001b[39m\"\u001b[39m]):\n",
      "File \u001b[0;32m~/.conda/envs/csp_wiesner_johannes/lib/python3.9/site-packages/nipype/pipeline/plugins/linear.py:82\u001b[0m, in \u001b[0;36mLinearPlugin.run\u001b[0;34m(self, graph, config, updatehash)\u001b[0m\n\u001b[1;32m     76\u001b[0m \u001b[39mif\u001b[39;00m \u001b[39mlen\u001b[39m(errors) \u001b[39m>\u001b[39m \u001b[39m1\u001b[39m:\n\u001b[1;32m     77\u001b[0m     error, cause \u001b[39m=\u001b[39m (\n\u001b[1;32m     78\u001b[0m         \u001b[39mRuntimeError\u001b[39;00m(\u001b[39mf\u001b[39m\u001b[39m\"\u001b[39m\u001b[39m{\u001b[39;00m\u001b[39mlen\u001b[39m(errors)\u001b[39m}\u001b[39;00m\u001b[39m raised. Re-raising first.\u001b[39m\u001b[39m\"\u001b[39m),\n\u001b[1;32m     79\u001b[0m         error,\n\u001b[1;32m     80\u001b[0m     )\n\u001b[0;32m---> 82\u001b[0m \u001b[39mraise\u001b[39;00m error \u001b[39mfrom\u001b[39;00m \u001b[39mcause\u001b[39;00m\n",
      "File \u001b[0;32m~/.conda/envs/csp_wiesner_johannes/lib/python3.9/site-packages/nipype/pipeline/plugins/linear.py:47\u001b[0m, in \u001b[0;36mLinearPlugin.run\u001b[0;34m(self, graph, config, updatehash)\u001b[0m\n\u001b[1;32m     45\u001b[0m     \u001b[39mif\u001b[39;00m \u001b[39mself\u001b[39m\u001b[39m.\u001b[39m_status_callback:\n\u001b[1;32m     46\u001b[0m         \u001b[39mself\u001b[39m\u001b[39m.\u001b[39m_status_callback(node, \u001b[39m\"\u001b[39m\u001b[39mstart\u001b[39m\u001b[39m\"\u001b[39m)\n\u001b[0;32m---> 47\u001b[0m     node\u001b[39m.\u001b[39;49mrun(updatehash\u001b[39m=\u001b[39;49mupdatehash)\n\u001b[1;32m     48\u001b[0m \u001b[39mexcept\u001b[39;00m \u001b[39mException\u001b[39;00m \u001b[39mas\u001b[39;00m exc:\n\u001b[1;32m     49\u001b[0m     endstatus \u001b[39m=\u001b[39m \u001b[39m\"\u001b[39m\u001b[39mexception\u001b[39m\u001b[39m\"\u001b[39m\n",
      "File \u001b[0;32m~/.conda/envs/csp_wiesner_johannes/lib/python3.9/site-packages/nipype/pipeline/engine/nodes.py:527\u001b[0m, in \u001b[0;36mNode.run\u001b[0;34m(self, updatehash)\u001b[0m\n\u001b[1;32m    524\u001b[0m savepkl(op\u001b[39m.\u001b[39mjoin(outdir, \u001b[39m\"\u001b[39m\u001b[39m_inputs.pklz\u001b[39m\u001b[39m\"\u001b[39m), \u001b[39mself\u001b[39m\u001b[39m.\u001b[39minputs\u001b[39m.\u001b[39mget_traitsfree())\n\u001b[1;32m    526\u001b[0m \u001b[39mtry\u001b[39;00m:\n\u001b[0;32m--> 527\u001b[0m     result \u001b[39m=\u001b[39m \u001b[39mself\u001b[39;49m\u001b[39m.\u001b[39;49m_run_interface(execute\u001b[39m=\u001b[39;49m\u001b[39mTrue\u001b[39;49;00m)\n\u001b[1;32m    528\u001b[0m \u001b[39mexcept\u001b[39;00m \u001b[39mException\u001b[39;00m:\n\u001b[1;32m    529\u001b[0m     logger\u001b[39m.\u001b[39mwarning(\u001b[39m'\u001b[39m\u001b[39m[Node] Error on \u001b[39m\u001b[39m\"\u001b[39m\u001b[39m%s\u001b[39;00m\u001b[39m\"\u001b[39m\u001b[39m (\u001b[39m\u001b[39m%s\u001b[39;00m\u001b[39m)\u001b[39m\u001b[39m'\u001b[39m, \u001b[39mself\u001b[39m\u001b[39m.\u001b[39mfullname, outdir)\n",
      "File \u001b[0;32m~/.conda/envs/csp_wiesner_johannes/lib/python3.9/site-packages/nipype/pipeline/engine/nodes.py:645\u001b[0m, in \u001b[0;36mNode._run_interface\u001b[0;34m(self, execute, updatehash)\u001b[0m\n\u001b[1;32m    643\u001b[0m     \u001b[39mself\u001b[39m\u001b[39m.\u001b[39m_update_hash()\n\u001b[1;32m    644\u001b[0m     \u001b[39mreturn\u001b[39;00m \u001b[39mself\u001b[39m\u001b[39m.\u001b[39m_load_results()\n\u001b[0;32m--> 645\u001b[0m \u001b[39mreturn\u001b[39;00m \u001b[39mself\u001b[39;49m\u001b[39m.\u001b[39;49m_run_command(execute)\n",
      "File \u001b[0;32m~/.conda/envs/csp_wiesner_johannes/lib/python3.9/site-packages/nipype/pipeline/engine/nodes.py:771\u001b[0m, in \u001b[0;36mNode._run_command\u001b[0;34m(self, execute, copyfiles)\u001b[0m\n\u001b[1;32m    769\u001b[0m     \u001b[39m# Always pass along the traceback\u001b[39;00m\n\u001b[1;32m    770\u001b[0m     msg \u001b[39m+\u001b[39m\u001b[39m=\u001b[39m \u001b[39mf\u001b[39m\u001b[39m\"\u001b[39m\u001b[39mTraceback:\u001b[39m\u001b[39m\\n\u001b[39;00m\u001b[39m{\u001b[39;00m_tab(runtime\u001b[39m.\u001b[39mtraceback)\u001b[39m}\u001b[39;00m\u001b[39m\"\u001b[39m\n\u001b[0;32m--> 771\u001b[0m     \u001b[39mraise\u001b[39;00m NodeExecutionError(msg)\n\u001b[1;32m    773\u001b[0m \u001b[39mreturn\u001b[39;00m result\n",
      "\u001b[0;31mNodeExecutionError\u001b[0m: Exception raised while executing Node normalize_func.\n\nTraceback:\n\tTraceback (most recent call last):\n\t  File \"/home/johannes.wiesner/.conda/envs/csp_wiesner_johannes/lib/python3.9/site-packages/nipype/interfaces/base/core.py\", line 398, in run\n\t    runtime = self._run_interface(runtime)\n\t  File \"/home/johannes.wiesner/.conda/envs/csp_wiesner_johannes/lib/python3.9/site-packages/nipype/interfaces/spm/base.py\", line 387, in _run_interface\n\t    results = self.mlab.run()\n\t  File \"/home/johannes.wiesner/.conda/envs/csp_wiesner_johannes/lib/python3.9/site-packages/nipype/interfaces/base/core.py\", line 398, in run\n\t    runtime = self._run_interface(runtime)\n\t  File \"/home/johannes.wiesner/.conda/envs/csp_wiesner_johannes/lib/python3.9/site-packages/nipype/interfaces/matlab.py\", line 164, in _run_interface\n\t    self.raise_exception(runtime)\n\t  File \"/home/johannes.wiesner/.conda/envs/csp_wiesner_johannes/lib/python3.9/site-packages/nipype/interfaces/base/core.py\", line 686, in raise_exception\n\t    raise RuntimeError(\n\tRuntimeError: Command:\n\t/opt/matlab/R2022a/bin/matlab -nodesktop -nosplash -singleCompThread -r \"addpath('/home/johannes.wiesner/work/repos/workshop_cimh/workshop/courses/nipype/preprocessing_wf/normalize_func');pyscript_normalize12;exit\"\n\tStandard output:\n\tMATLAB is selecting SOFTWARE OPENGL rendering.\n\n\t                            < M A T L A B (R) >\n\t                  Copyright 1984-2022 The MathWorks, Inc.\n\t                  R2022a (9.12.0.1884302) 64-bit (glnxa64)\n\t                             February 16, 2022\n\n \n\tTo get started, type doc.\n\tFor product information, visit www.mathworks.com.\n \n\t    ----------------------------------------------------\n\t\tYour license will expire in 9 days.\n\t\tPlease contact your system administrator or\n\t\tMathWorks to renew this license.\n\t    ----------------------------------------------------\n\tExecuting pyscript_normalize12 at 21-Apr-2023 17:46:15:\n\tExecuting pyscript_normalize12 at 21-Apr-2023 17:46:15:\n\t-----------------------------------------------------------------------------------------------------\n\tMATLAB Version: 9.12.0.1884302 (R2022a)\n\tMATLAB License Number: 886879\n\tOperating System: Linux 5.15.0-52-generic #58-Ubuntu SMP Thu Oct 13 08:03:55 UTC 2022 x86_64\n\tJava Version: Java 1.8.0_202-b08 with Oracle Corporation Java HotSpot(TM) 64-Bit Server VM mixed mode\n\t-----------------------------------------------------------------------------------------------------\n\tMATLAB                                                Version 9.12        (R2022a)\n\tAutomated Driving Toolbox                             Version 3.5         (R2022a)\n\tBioinformatics Toolbox                                Version 4.16        (R2022a)\n\tComputer Vision Toolbox                               Version 10.2        (R2022a)\n\tCurve Fitting Toolbox                                 Version 3.7         (R2022a)\n\tDSP System Toolbox                                    Version 9.14        (R2022a)\n\tEconometrics Toolbox                                  Version 6.0         (R2022a)\n\tImage Processing Toolbox                              Version 11.5        (R2022a)\n\tInstrument Control Toolbox                            Version 4.6         (R2022a)\n\tMATLAB Compiler                                       Version 8.4         (R2022a)\n\tOptimization Toolbox                                  Version 9.3         (R2022a)\n\tParallel Computing Toolbox                            Version 7.6         (R2022a)\n\tSignal Processing Toolbox                             Version 9.0         (R2022a)\n\tStatistical Parametric Mapping                        Version 7771        (SPM12) \n\tStatistics and Machine Learning Toolbox               Version 12.3        (R2022a)\n\tSymbolic Math Toolbox                                 Version 9.1         (R2022a)\n\tWavelet Toolbox                                       Version 6.1         (R2022a)\n\tSPM version: SPM12 Release: 7771\n\tSPM path: /opt/matlab/toolboxes/spm12/spm.m\n\tItem subj: No field(s) named\n\tdef\n\tStandard error:\n\tMATLAB code threw an exception:\n\tNo executable modules, but still unresolved dependencies or incomplete module inputs.\n\tFile:/opt/matlab/toolboxes/spm12/spm_jobman.m\n\tName:/opt/matlab/toolboxes/spm12/spm_jobman.m\n\tLine:47\n\tFile:home/johannes.wiesner/work/repos/workshop_cimh/workshop/courses/nipype/preprocessing_wf/normalize_func/pyscript_normalize12.m\n\tName:fill_run_job\n\tLine:115\n\tFile:pm_jobman\n\tName:pyscript_normalize12\n\tLine:472\n\tFile:÷\n\tName:\n\n\tLine:\n\tReturn code: 0\n"
     ]
    }
   ],
   "source": [
    "preprocessing_wf = Workflow(name='preprocessing_wf',base_dir='.')\n",
    "preprocessing_wf.connect(realign,'mean_image',coregister,'target')\n",
    "preprocessing_wf.connect(coregister,'coregistered_source',segment,'channel_files')\n",
    "preprocessing_wf.run()"
   ]
  },
  {
   "cell_type": "code",
   "execution_count": 53,
   "metadata": {},
   "outputs": [
    {
     "name": "stderr",
     "output_type": "stream",
     "text": [
      "stty: 'standard input': Inappropriate ioctl for device\n"
     ]
    },
    {
     "data": {
      "text/plain": [
       "\n",
       "affine_regularization = <undefined>\n",
       "channel_files = <undefined>\n",
       "channel_info = <undefined>\n",
       "matlab_cmd = /opt/matlab/R2022a/bin/matlab\n",
       "mfile = True\n",
       "paths = ['/opt/matlab/toolboxes/spm12']\n",
       "sampling_distance = <undefined>\n",
       "tissues = <undefined>\n",
       "use_mcr = <undefined>\n",
       "use_v8struct = True\n",
       "warping_regularization = <undefined>\n",
       "write_deformation_fields = <undefined>"
      ]
     },
     "execution_count": 53,
     "metadata": {},
     "output_type": "execute_result"
    }
   ],
   "source": [
    "seg = spm.NewSegment()\n",
    "seg.inputs"
   ]
  }
 ],
 "metadata": {
  "kernelspec": {
   "display_name": "Python 3.9.16 ('csp_wiesner_johannes')",
   "language": "python",
   "name": "python3"
  },
  "language_info": {
   "codemirror_mode": {
    "name": "ipython",
    "version": 3
   },
   "file_extension": ".py",
   "mimetype": "text/x-python",
   "name": "python",
   "nbconvert_exporter": "python",
   "pygments_lexer": "ipython3",
   "version": "3.9.16"
  },
  "orig_nbformat": 4,
  "vscode": {
   "interpreter": {
    "hash": "738de0c4ea10abbf0fec7b6b56186b7ea846cb3a384dccf9ec94c3564a3dc3b6"
   }
  }
 },
 "nbformat": 4,
 "nbformat_minor": 2
}
