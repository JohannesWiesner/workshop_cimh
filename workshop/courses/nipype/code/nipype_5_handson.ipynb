{
 "cells": [
  {
   "cell_type": "markdown",
   "metadata": {},
   "source": [
    "# Only for real nerds"
   ]
  },
  {
   "cell_type": "markdown",
   "metadata": {},
   "source": [
    "## Create a preprocessing workflow that includes Realignment, Coregistration, Normalization and Smoothing"
   ]
  },
  {
   "cell_type": "markdown",
   "metadata": {},
   "source": [
    "### Setup "
   ]
  },
  {
   "cell_type": "code",
   "execution_count": 25,
   "metadata": {},
   "outputs": [
    {
     "name": "stderr",
     "output_type": "stream",
     "text": [
      "stty: 'standard input': Inappropriate ioctl for device\n"
     ]
    }
   ],
   "source": [
    "# import all the stuff that you need\n",
    "from nipype.interfaces import spm\n",
    "from nipype import Workflow, Node\n",
    "import os\n",
    "\n",
    "# get current working directory\n",
    "working_directory = os.getcwd()\n",
    "\n",
    "# configure spm\n",
    "spm.SPMCommand.set_mlab_paths(matlab_cmd='/opt/matlab/R2022a/bin/matlab', paths='/opt/matlab/toolboxes/spm12', use_mcr=False)\n",
    "\n",
    "# get paths to functional and anatomical images\n",
    "fmri_img = os.path.join(working_directory,'data/fmri_img.nii')\n",
    "anatomical_img = os.path.join(working_directory,'data/spm_auditory/sub001/sM00223/sM00223_002.img')"
   ]
  },
  {
   "cell_type": "markdown",
   "metadata": {},
   "source": [
    "### Set up all the nodes we need for preprocessing"
   ]
  },
  {
   "cell_type": "code",
   "execution_count": 68,
   "metadata": {},
   "outputs": [
    {
     "name": "stderr",
     "output_type": "stream",
     "text": [
      "stty: 'standard input': Inappropriate ioctl for device\n"
     ]
    }
   ],
   "source": [
    "# Use Realign for motion correction and register all images to the mean image. Since this is the first node, we have to provide with the filepath \n",
    "realign = Node(interface=spm.Realign(in_files=[fmri_img],jobtype='estwrite'), name=\"realign\")\n",
    "\n",
    "# Use Coregister to perform a rigid body registration of the functional data to the structural data. We have to provide it with the anatomical image\n",
    "coregister = Node(interface=spm.Coregister(source=[anatomical_img]), name=\"coregister\")\n",
    "\n",
    "# Segment the coregistered structural image\n",
    "segment = Node(interface=spm.NewSegment(channel_info=(0.0001,60,(True,True)),write_deformation_fields=[False,True]), name=\"segment\")\n",
    "tpm_img ='/opt/matlab/toolboxes/spm12/tpm/TPM.nii'\n",
    "tissue1 = ((tpm_img, 1), 1, (True,False), (False, False))\n",
    "tissue2 = ((tpm_img, 2), 1, (True,False), (False, False))\n",
    "tissue3 = ((tpm_img, 3), 2, (True,False), (False, False))\n",
    "tissue4 = ((tpm_img, 4), 3, (False,False), (False, False))\n",
    "tissue5 = ((tpm_img, 5), 4, (False,False), (False, False))\n",
    "tissue6 = ((tpm_img, 6), 2, (False,False), (False, False))\n",
    "tissues = [tissue1, tissue2, tissue3, tissue4, tissue5, tissue6]\n",
    "segment.inputs.tissues = tissues\n",
    "\n",
    "# Warp functional and structural data to SPM’s T1 template using Normalize.\n",
    "normalize = Node(interface=spm.Normalize12(), name=\"normalize\")\n",
    "\n",
    "# Smooth the functional data using Smooth\n",
    "smooth = Node(interface=spm.Smooth(), name=\"smooth\")"
   ]
  },
  {
   "cell_type": "markdown",
   "metadata": {},
   "source": [
    "### Setup the workflow and run it"
   ]
  },
  {
   "cell_type": "code",
   "execution_count": 71,
   "metadata": {},
   "outputs": [
    {
     "name": "stdout",
     "output_type": "stream",
     "text": [
      "230421-17:52:24,828 nipype.workflow INFO:\n",
      "\t Workflow preprocessing_wf settings: ['check', 'execution', 'logging', 'monitoring']\n",
      "230421-17:52:24,831 nipype.workflow INFO:\n",
      "\t Running serially.\n",
      "230421-17:52:24,831 nipype.workflow INFO:\n",
      "\t [Node] Setting-up \"preprocessing_wf.realign\" in \"/home/johannes.wiesner/work/repos/workshop_cimh/workshop/courses/nipype/preprocessing_wf/realign\".\n",
      "230421-17:52:24,833 nipype.workflow INFO:\n",
      "\t [Node] Cached \"preprocessing_wf.realign\" - collecting precomputed outputs\n",
      "230421-17:52:24,833 nipype.workflow INFO:\n",
      "\t [Node] \"preprocessing_wf.realign\" found cached.\n",
      "230421-17:52:24,833 nipype.workflow INFO:\n",
      "\t [Node] Setting-up \"preprocessing_wf.coregister\" in \"/home/johannes.wiesner/work/repos/workshop_cimh/workshop/courses/nipype/preprocessing_wf/coregister\".\n",
      "230421-17:52:24,835 nipype.workflow INFO:\n",
      "\t [Node] Cached \"preprocessing_wf.coregister\" - collecting precomputed outputs\n",
      "230421-17:52:24,835 nipype.workflow INFO:\n",
      "\t [Node] \"preprocessing_wf.coregister\" found cached.\n",
      "230421-17:52:24,835 nipype.workflow INFO:\n",
      "\t [Node] Setting-up \"preprocessing_wf.segment\" in \"/home/johannes.wiesner/work/repos/workshop_cimh/workshop/courses/nipype/preprocessing_wf/segment\".\n",
      "230421-17:52:24,836 nipype.workflow INFO:\n",
      "\t [Node] Outdated cache found for \"preprocessing_wf.segment\".\n",
      "230421-17:52:24,841 nipype.workflow INFO:\n",
      "\t [Node] Executing \"segment\" <nipype.interfaces.spm.preprocess.NewSegment>\n",
      "230421-17:53:12,556 nipype.workflow INFO:\n",
      "\t [Node] Finished \"segment\", elapsed time 47.715084s.\n"
     ]
    },
    {
     "name": "stderr",
     "output_type": "stream",
     "text": [
      "stty: 'standard input': Inappropriate ioctl for device\n"
     ]
    },
    {
     "data": {
      "text/plain": [
       "<networkx.classes.digraph.DiGraph at 0x7f4c8ab3a850>"
      ]
     },
     "execution_count": 71,
     "metadata": {},
     "output_type": "execute_result"
    }
   ],
   "source": [
    "preprocessing_wf = Workflow(name='preprocessing_wf',base_dir='.')\n",
    "preprocessing_wf.connect(realign,'mean_image',coregister,'target')\n",
    "preprocessing_wf.connect(coregister,'coregistered_source',segment,'channel_files')\n",
    "preprocessing_wf.run()"
   ]
  },
  {
   "cell_type": "code",
   "execution_count": 53,
   "metadata": {},
   "outputs": [
    {
     "name": "stderr",
     "output_type": "stream",
     "text": [
      "stty: 'standard input': Inappropriate ioctl for device\n"
     ]
    },
    {
     "data": {
      "text/plain": [
       "\n",
       "affine_regularization = <undefined>\n",
       "channel_files = <undefined>\n",
       "channel_info = <undefined>\n",
       "matlab_cmd = /opt/matlab/R2022a/bin/matlab\n",
       "mfile = True\n",
       "paths = ['/opt/matlab/toolboxes/spm12']\n",
       "sampling_distance = <undefined>\n",
       "tissues = <undefined>\n",
       "use_mcr = <undefined>\n",
       "use_v8struct = True\n",
       "warping_regularization = <undefined>\n",
       "write_deformation_fields = <undefined>"
      ]
     },
     "execution_count": 53,
     "metadata": {},
     "output_type": "execute_result"
    }
   ],
   "source": [
    "seg = spm.NewSegment()\n",
    "seg.inputs"
   ]
  }
 ],
 "metadata": {
  "kernelspec": {
   "display_name": "Python 3 (ipykernel)",
   "language": "python",
   "name": "python3"
  },
  "language_info": {
   "codemirror_mode": {
    "name": "ipython",
    "version": 3
   },
   "file_extension": ".py",
   "mimetype": "text/x-python",
   "name": "python",
   "nbconvert_exporter": "python",
   "pygments_lexer": "ipython3",
   "version": "3.9.16"
  },
  "vscode": {
   "interpreter": {
    "hash": "738de0c4ea10abbf0fec7b6b56186b7ea846cb3a384dccf9ec94c3564a3dc3b6"
   }
  }
 },
 "nbformat": 4,
 "nbformat_minor": 4
}
