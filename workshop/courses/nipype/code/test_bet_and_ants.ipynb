{
 "cells": [
  {
   "cell_type": "code",
   "execution_count": 2,
   "id": "a97bc003-6467-4df1-9f55-82eb0a4c0a78",
   "metadata": {
    "tags": []
   },
   "outputs": [],
   "source": [
    "import nipype.interfaces.fsl as fsl\n",
    "mybet = fsl.BET(in_file='/data/anatomical.nii', out_file='bar.nii')\n",
    "result = mybet.run()"
   ]
  },
  {
   "cell_type": "code",
   "execution_count": 5,
   "id": "71521f5b-7dec-465d-b548-bfc886981d74",
   "metadata": {
    "tags": []
   },
   "outputs": [
    {
     "ename": "OSError",
     "evalue": "No command \"antsRegistrationSyNQuick.sh\" found on host e8aa967124d9. Please check that the corresponding package is installed.",
     "output_type": "error",
     "traceback": [
      "\u001b[0;31m---------------------------------------------------------------------------\u001b[0m",
      "\u001b[0;31mOSError\u001b[0m                                   Traceback (most recent call last)",
      "Cell \u001b[0;32mIn[5], line 3\u001b[0m\n\u001b[1;32m      1\u001b[0m \u001b[38;5;28;01mfrom\u001b[39;00m \u001b[38;5;21;01mnipype\u001b[39;00m\u001b[38;5;21;01m.\u001b[39;00m\u001b[38;5;21;01minterfaces\u001b[39;00m\u001b[38;5;21;01m.\u001b[39;00m\u001b[38;5;21;01mants\u001b[39;00m \u001b[38;5;28;01mimport\u001b[39;00m RegistrationSynQuick\n\u001b[1;32m      2\u001b[0m reg \u001b[38;5;241m=\u001b[39m RegistrationSynQuick(moving_image\u001b[38;5;241m=\u001b[39m\u001b[38;5;124m'\u001b[39m\u001b[38;5;124m/data/functional.nii\u001b[39m\u001b[38;5;124m'\u001b[39m,fixed_image\u001b[38;5;241m=\u001b[39m\u001b[38;5;124m'\u001b[39m\u001b[38;5;124m/data/anatomical.nii\u001b[39m\u001b[38;5;124m'\u001b[39m)\n\u001b[0;32m----> 3\u001b[0m result \u001b[38;5;241m=\u001b[39m \u001b[43mreg\u001b[49m\u001b[38;5;241;43m.\u001b[39;49m\u001b[43mrun\u001b[49m\u001b[43m(\u001b[49m\u001b[43m)\u001b[49m\n",
      "File \u001b[0;32m/opt/miniconda-latest/envs/csp/lib/python3.10/site-packages/nipype/interfaces/base/core.py:397\u001b[0m, in \u001b[0;36mBaseInterface.run\u001b[0;34m(self, cwd, ignore_exception, **inputs)\u001b[0m\n\u001b[1;32m    395\u001b[0m \u001b[38;5;66;03m# Run interface\u001b[39;00m\n\u001b[1;32m    396\u001b[0m runtime \u001b[38;5;241m=\u001b[39m \u001b[38;5;28mself\u001b[39m\u001b[38;5;241m.\u001b[39m_pre_run_hook(runtime)\n\u001b[0;32m--> 397\u001b[0m runtime \u001b[38;5;241m=\u001b[39m \u001b[38;5;28;43mself\u001b[39;49m\u001b[38;5;241;43m.\u001b[39;49m\u001b[43m_run_interface\u001b[49m\u001b[43m(\u001b[49m\u001b[43mruntime\u001b[49m\u001b[43m)\u001b[49m\n\u001b[1;32m    398\u001b[0m runtime \u001b[38;5;241m=\u001b[39m \u001b[38;5;28mself\u001b[39m\u001b[38;5;241m.\u001b[39m_post_run_hook(runtime)\n\u001b[1;32m    399\u001b[0m \u001b[38;5;66;03m# Collect outputs\u001b[39;00m\n",
      "File \u001b[0;32m/opt/miniconda-latest/envs/csp/lib/python3.10/site-packages/nipype/interfaces/base/core.py:752\u001b[0m, in \u001b[0;36mCommandLine._run_interface\u001b[0;34m(self, runtime, correct_return_codes)\u001b[0m\n\u001b[1;32m    749\u001b[0m cmd_path \u001b[38;5;241m=\u001b[39m which(executable_name, env\u001b[38;5;241m=\u001b[39mruntime\u001b[38;5;241m.\u001b[39menviron)\n\u001b[1;32m    751\u001b[0m \u001b[38;5;28;01mif\u001b[39;00m cmd_path \u001b[38;5;129;01mis\u001b[39;00m \u001b[38;5;28;01mNone\u001b[39;00m:\n\u001b[0;32m--> 752\u001b[0m     \u001b[38;5;28;01mraise\u001b[39;00m \u001b[38;5;167;01mIOError\u001b[39;00m(\n\u001b[1;32m    753\u001b[0m         \u001b[38;5;124m'\u001b[39m\u001b[38;5;124mNo command \u001b[39m\u001b[38;5;124m\"\u001b[39m\u001b[38;5;132;01m%s\u001b[39;00m\u001b[38;5;124m\"\u001b[39m\u001b[38;5;124m found on host \u001b[39m\u001b[38;5;132;01m%s\u001b[39;00m\u001b[38;5;124m. Please check that the \u001b[39m\u001b[38;5;124m'\u001b[39m\n\u001b[1;32m    754\u001b[0m         \u001b[38;5;124m\"\u001b[39m\u001b[38;5;124mcorresponding package is installed.\u001b[39m\u001b[38;5;124m\"\u001b[39m\n\u001b[1;32m    755\u001b[0m         \u001b[38;5;241m%\u001b[39m (executable_name, runtime\u001b[38;5;241m.\u001b[39mhostname)\n\u001b[1;32m    756\u001b[0m     )\n\u001b[1;32m    758\u001b[0m runtime\u001b[38;5;241m.\u001b[39mcommand_path \u001b[38;5;241m=\u001b[39m cmd_path\n\u001b[1;32m    759\u001b[0m runtime\u001b[38;5;241m.\u001b[39mdependencies \u001b[38;5;241m=\u001b[39m (\n\u001b[1;32m    760\u001b[0m     get_dependencies(executable_name, runtime\u001b[38;5;241m.\u001b[39menviron)\n\u001b[1;32m    761\u001b[0m     \u001b[38;5;28;01mif\u001b[39;00m \u001b[38;5;28mself\u001b[39m\u001b[38;5;241m.\u001b[39m_ldd\n\u001b[1;32m    762\u001b[0m     \u001b[38;5;28;01melse\u001b[39;00m \u001b[38;5;124m\"\u001b[39m\u001b[38;5;124m<skipped>\u001b[39m\u001b[38;5;124m\"\u001b[39m\n\u001b[1;32m    763\u001b[0m )\n",
      "\u001b[0;31mOSError\u001b[0m: No command \"antsRegistrationSyNQuick.sh\" found on host e8aa967124d9. Please check that the corresponding package is installed."
     ]
    }
   ],
   "source": [
    "from nipype.interfaces.ants import RegistrationSynQuick\n",
    "reg = RegistrationSynQuick(moving_image='/data/functional.nii',fixed_image='/data/anatomical.nii')\n",
    "result = reg.run()"
   ]
  },
  {
   "cell_type": "code",
   "execution_count": null,
   "id": "24a1438f-3efd-461f-81cf-e8407e339498",
   "metadata": {},
   "outputs": [],
   "source": []
  }
 ],
 "metadata": {
  "kernelspec": {
   "display_name": "Python 3 (ipykernel)",
   "language": "python",
   "name": "python3"
  },
  "language_info": {
   "codemirror_mode": {
    "name": "ipython",
    "version": 3
   },
   "file_extension": ".py",
   "mimetype": "text/x-python",
   "name": "python",
   "nbconvert_exporter": "python",
   "pygments_lexer": "ipython3",
   "version": "3.10.10"
  }
 },
 "nbformat": 4,
 "nbformat_minor": 5
}
