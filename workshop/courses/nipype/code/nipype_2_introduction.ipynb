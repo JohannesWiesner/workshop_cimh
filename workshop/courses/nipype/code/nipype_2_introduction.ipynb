{
 "cells": [
  {
   "cell_type": "markdown",
   "id": "ea957787-510f-4fac-9b62-09ec6d666d7e",
   "metadata": {},
   "source": [
    "# Nipype introduction"
   ]
  },
  {
   "cell_type": "markdown",
   "id": "5da400b5",
   "metadata": {},
   "source": [
    "## Setup your analysis (import packages, set paths, etc.)"
   ]
  },
  {
   "cell_type": "code",
   "execution_count": 4,
   "id": "62bc33de",
   "metadata": {
    "tags": [
     "remove-output"
    ]
   },
   "outputs": [
    {
     "name": "stderr",
     "output_type": "stream",
     "text": [
      "stty: 'standard input': Inappropriate ioctl for device\n"
     ]
    }
   ],
   "source": [
    "# import all the packages that we need\n",
    "from nipype import Node\n",
    "from nipype.interfaces.spm import Smooth\n",
    "from nipype.interfaces import spm\n",
    "from nilearn.plotting import plot_anat\n",
    "spm.SPMCommand.set_mlab_paths(matlab_cmd='/opt/matlab/R2022a/bin/matlab', paths='/opt/matlab/toolboxes/spm12', use_mcr=False)\n",
    "\n",
    "# set general paths\n",
    "base_dir = '/home/johannes.wiesner/work/repos/workshop_cimh/workshop/courses/nipype/cache/'\n",
    "t1_image = '/home/johannes.wiesner/work/repos/workshop_cimh/workshop/courses/nipype/data/anatomical.nii'"
   ]
  },
  {
   "cell_type": "markdown",
   "id": "0e006118-ebb1-4b07-9260-017a5534100f",
   "metadata": {},
   "source": [
    "## Neuroimaging example"
   ]
  },
  {
   "cell_type": "code",
   "execution_count": 3,
   "id": "103b2a47-a975-42eb-b572-30043a8f0e7c",
   "metadata": {
    "tags": [
     "remove-output"
    ]
   },
   "outputs": [
    {
     "name": "stdout",
     "output_type": "stream",
     "text": [
      "230711-14:08:02,363 nipype.workflow INFO:\n",
      "\t [Node] Setting-up \"smooth\" in \"/home/johannes.wiesner/work/repos/workshop_cimh/workshop/courses/nipype/cache/smooth\".\n",
      "230711-14:08:02,364 nipype.workflow INFO:\n",
      "\t [Node] Cached \"smooth\" - collecting precomputed outputs\n",
      "230711-14:08:02,364 nipype.workflow INFO:\n",
      "\t [Node] \"smooth\" found cached.\n"
     ]
    },
    {
     "data": {
      "text/plain": [
       "<nipype.interfaces.base.support.InterfaceResult at 0x7f7163ac03a0>"
      ]
     },
     "execution_count": 3,
     "metadata": {},
     "output_type": "execute_result"
    }
   ],
   "source": [
    "## Let's smooth a structural image\n",
    "smooth = Node(Smooth(fwhm=[4,4,5],in_files = t1_image),name='smooth',base_dir=base_dir)\n",
    "smooth.run()"
   ]
  },
  {
   "cell_type": "code",
   "execution_count": null,
   "id": "c96085fc",
   "metadata": {
    "tags": [
     "remove-output"
    ]
   },
   "outputs": [],
   "source": [
    "# Let's plot the image before and after smoothing\n",
    "plot_anat(t1_image,annotate=False,draw_cross=False,cut_coords=(10,10,10))\n",
    "plot_anat('/home/johannes.wiesner/work/repos/workshop_cimh/workshop/courses/nipype/cache/smooth/sanatomical.nii',annotate=False,draw_cross=False,cut_coords=(10,10,10))\n"
   ]
  }
 ],
 "metadata": {
  "kernelspec": {
   "display_name": "Python 3 (ipykernel)",
   "language": "python",
   "name": "python3"
  },
  "language_info": {
   "codemirror_mode": {
    "name": "ipython",
    "version": 3
   },
   "file_extension": ".py",
   "mimetype": "text/x-python",
   "name": "python",
   "nbconvert_exporter": "python",
   "pygments_lexer": "ipython3",
   "version": "3.8.17"
  }
 },
 "nbformat": 4,
 "nbformat_minor": 5
}
