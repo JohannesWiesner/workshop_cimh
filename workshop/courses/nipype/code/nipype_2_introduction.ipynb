{
 "cells": [
  {
   "cell_type": "markdown",
   "id": "ea957787-510f-4fac-9b62-09ec6d666d7e",
   "metadata": {},
   "source": [
    "# Nipype introduction"
   ]
  },
  {
   "cell_type": "markdown",
   "id": "0e006118-ebb1-4b07-9260-017a5534100f",
   "metadata": {},
   "source": [
    "## Neuroimaging example"
   ]
  },
  {
   "cell_type": "code",
   "execution_count": null,
   "id": "103b2a47-a975-42eb-b572-30043a8f0e7c",
   "metadata": {},
   "outputs": [],
   "source": []
  }
 ],
 "metadata": {
  "kernelspec": {
   "display_name": "Python 3 (ipykernel)",
   "language": "python",
   "name": "python3"
  },
  "language_info": {
   "codemirror_mode": {
    "name": "ipython",
    "version": 3
   },
   "file_extension": ".py",
   "mimetype": "text/x-python",
   "name": "python",
   "nbconvert_exporter": "python",
   "pygments_lexer": "ipython3",
   "version": "3.10.10"
  }
 },
 "nbformat": 4,
 "nbformat_minor": 5
}
