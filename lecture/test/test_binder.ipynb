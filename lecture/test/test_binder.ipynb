{
 "cells": [
  {
   "cell_type": "markdown",
   "id": "83230871-6407-4603-b226-c07c39f9e650",
   "metadata": {},
   "source": [
    "# This is a title"
   ]
  },
  {
   "cell_type": "code",
   "execution_count": null,
   "id": "2c1b033b-4946-48a8-91ef-c1126d45e95b",
   "metadata": {},
   "outputs": [],
   "source": [
    "foo = 1"
   ]
  }
 ],
 "metadata": {
  "kernelspec": {
   "display_name": "Python 3 (ipykernel)",
   "language": "python",
   "name": "python3"
  },
  "language_info": {
   "codemirror_mode": {
    "name": "ipython",
    "version": 3
   },
   "file_extension": ".py",
   "mimetype": "text/x-python",
   "name": "python",
   "nbconvert_exporter": "python",
   "pygments_lexer": "ipython3",
   "version": "3.9.16"
  }
 },
 "nbformat": 4,
 "nbformat_minor": 5
}
