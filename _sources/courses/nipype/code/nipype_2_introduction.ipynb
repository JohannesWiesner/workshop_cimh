{
 "cells": [
  {
   "attachments": {},
   "cell_type": "markdown",
   "id": "ea957787-510f-4fac-9b62-09ec6d666d7e",
   "metadata": {},
   "source": [
    "# Nipype introduction"
   ]
  },
  {
   "attachments": {},
   "cell_type": "markdown",
   "id": "0e006118-ebb1-4b07-9260-017a5534100f",
   "metadata": {},
   "source": [
    "## Neuroimaging example"
   ]
  },
  {
   "cell_type": "code",
   "execution_count": 26,
   "id": "ee245b68",
   "metadata": {},
   "outputs": [
    {
     "name": "stderr",
     "output_type": "stream",
     "text": [
      "/home/johannes.wiesner/.conda/envs/csp_wiesner_johannes/lib/python3.8/site-packages/nilearn/datasets/struct.py:850: UserWarning: `legacy_format` will default to `False` in release 0.11. Dataset fetchers will then return pandas dataframes by default instead of recarrays.\n",
      "  warnings.warn(_LEGACY_FORMAT_MSG)\n"
     ]
    }
   ],
   "source": [
    "# Download a single anatomical image\n",
    "from nilearn.datasets import fetch_oasis_vbm\n",
    "oasis_dataset = fetch_oasis_vbm(n_subjects=1,data_dir='/home/johannes.wiesner/work/repos/workshop_cimh/workshop/courses/nipype/data/oasis1/')\n",
    "t1_image = oasis_dataset['gray_matter_maps'][0]"
   ]
  },
  {
   "cell_type": "code",
   "execution_count": 25,
   "id": "103b2a47-a975-42eb-b572-30043a8f0e7c",
   "metadata": {},
   "outputs": [
    {
     "name": "stdout",
     "output_type": "stream",
     "text": [
      "230710-16:34:51,223 nipype.workflow INFO:\n",
      "\t [Node] Setting-up \"gunzipper\" in \"/home/johannes.wiesner/work/repos/workshop_cimh/workshop/courses/nipype/cache/gunzipper\".\n",
      "230710-16:34:51,224 nipype.workflow INFO:\n",
      "\t [Node] Cached \"gunzipper\" - collecting precomputed outputs\n",
      "230710-16:34:51,224 nipype.workflow INFO:\n",
      "\t [Node] \"gunzipper\" found cached.\n"
     ]
    },
    {
     "ename": "TraitError",
     "evalue": "Each element of the 'in_files' trait of a SmoothInputSpec instance must be a pathlike object or string representing an existing file, but a value of '/home/johannes.wiesner/work/repos/workshop_cimh/workshop/courses/nipype/data/oasis1/oasis1/OAS1_0001_MR1/mwrc1OAS1_0001_MR1_mpr_anon_fslswapdim_bet.nii.gz' <class 'str'> was specified.",
     "output_type": "error",
     "traceback": [
      "\u001b[0;31m---------------------------------------------------------------------------\u001b[0m",
      "\u001b[0;31mTraitError\u001b[0m                                Traceback (most recent call last)",
      "Cell \u001b[0;32mIn[25], line 14\u001b[0m\n\u001b[1;32m     12\u001b[0m \u001b[39mfrom\u001b[39;00m \u001b[39mnipype\u001b[39;00m\u001b[39m.\u001b[39;00m\u001b[39minterfaces\u001b[39;00m\u001b[39m.\u001b[39;00m\u001b[39mspm\u001b[39;00m \u001b[39mimport\u001b[39;00m Smooth\n\u001b[1;32m     13\u001b[0m smooth \u001b[39m=\u001b[39m Node(Smooth(fwhm\u001b[39m=\u001b[39m[\u001b[39m4\u001b[39m,\u001b[39m4\u001b[39m,\u001b[39m5\u001b[39m]),name\u001b[39m=\u001b[39m\u001b[39m'\u001b[39m\u001b[39msmooth\u001b[39m\u001b[39m'\u001b[39m,base_dir\u001b[39m=\u001b[39mos\u001b[39m.\u001b[39mpath\u001b[39m.\u001b[39mabspath(\u001b[39m'\u001b[39m\u001b[39m../cache\u001b[39m\u001b[39m'\u001b[39m))\n\u001b[0;32m---> 14\u001b[0m smooth\u001b[39m.\u001b[39;49minputs\u001b[39m.\u001b[39;49min_files \u001b[39m=\u001b[39m t1_image\n\u001b[1;32m     15\u001b[0m smooth\u001b[39m.\u001b[39mrun()\n",
      "File \u001b[0;32m~/.conda/envs/csp_wiesner_johannes/lib/python3.8/site-packages/nipype/interfaces/base/traits_extension.py:424\u001b[0m, in \u001b[0;36mMultiObject.validate\u001b[0;34m(self, objekt, name, value)\u001b[0m\n\u001b[1;32m    418\u001b[0m \u001b[39mif\u001b[39;00m \u001b[39mnot\u001b[39;00m \u001b[39misinstance\u001b[39m(value, \u001b[39mlist\u001b[39m) \u001b[39mor\u001b[39;00m (\n\u001b[1;32m    419\u001b[0m     \u001b[39misinstance\u001b[39m(inner_trait\u001b[39m.\u001b[39mtrait_type, traits\u001b[39m.\u001b[39mList)\n\u001b[1;32m    420\u001b[0m     \u001b[39mand\u001b[39;00m \u001b[39mnot\u001b[39;00m \u001b[39misinstance\u001b[39m(inner_trait\u001b[39m.\u001b[39mtrait_type, InputMultiObject)\n\u001b[1;32m    421\u001b[0m     \u001b[39mand\u001b[39;00m \u001b[39mnot\u001b[39;00m \u001b[39misinstance\u001b[39m(value[\u001b[39m0\u001b[39m], \u001b[39mlist\u001b[39m)\n\u001b[1;32m    422\u001b[0m ):\n\u001b[1;32m    423\u001b[0m     newvalue \u001b[39m=\u001b[39m [value]\n\u001b[0;32m--> 424\u001b[0m value \u001b[39m=\u001b[39m \u001b[39msuper\u001b[39;49m(MultiObject, \u001b[39mself\u001b[39;49m)\u001b[39m.\u001b[39;49mvalidate(objekt, name, newvalue)\n\u001b[1;32m    426\u001b[0m \u001b[39mif\u001b[39;00m value:\n\u001b[1;32m    427\u001b[0m     \u001b[39mreturn\u001b[39;00m value\n",
      "File \u001b[0;32m~/.conda/envs/csp_wiesner_johannes/lib/python3.8/site-packages/traits/trait_types.py:2699\u001b[0m, in \u001b[0;36mList.validate\u001b[0;34m(self, object, name, value)\u001b[0m\n\u001b[1;32m   2696\u001b[0m     \u001b[39mif\u001b[39;00m \u001b[39mobject\u001b[39m \u001b[39mis\u001b[39;00m \u001b[39mNone\u001b[39;00m:\n\u001b[1;32m   2697\u001b[0m         \u001b[39mreturn\u001b[39;00m value\n\u001b[0;32m-> 2699\u001b[0m     \u001b[39mreturn\u001b[39;00m TraitListObject(\u001b[39mself\u001b[39;49m, \u001b[39mobject\u001b[39;49m, name, value)\n\u001b[1;32m   2701\u001b[0m \u001b[39mself\u001b[39m\u001b[39m.\u001b[39merror(\u001b[39mobject\u001b[39m, name, value)\n",
      "File \u001b[0;32m~/.conda/envs/csp_wiesner_johannes/lib/python3.8/site-packages/traits/trait_list_object.py:582\u001b[0m, in \u001b[0;36mTraitListObject.__init__\u001b[0;34m(self, trait, object, name, value)\u001b[0m\n\u001b[1;32m    579\u001b[0m value \u001b[39m=\u001b[39m \u001b[39mlist\u001b[39m(value)\n\u001b[1;32m    580\u001b[0m \u001b[39mself\u001b[39m\u001b[39m.\u001b[39m_validate_length(\u001b[39mlen\u001b[39m(value))\n\u001b[0;32m--> 582\u001b[0m \u001b[39msuper\u001b[39;49m()\u001b[39m.\u001b[39;49m\u001b[39m__init__\u001b[39;49m(\n\u001b[1;32m    583\u001b[0m     value,\n\u001b[1;32m    584\u001b[0m     item_validator\u001b[39m=\u001b[39;49m\u001b[39mself\u001b[39;49m\u001b[39m.\u001b[39;49m_item_validator,\n\u001b[1;32m    585\u001b[0m     notifiers\u001b[39m=\u001b[39;49m[\u001b[39mself\u001b[39;49m\u001b[39m.\u001b[39;49mnotifier],\n\u001b[1;32m    586\u001b[0m )\n",
      "File \u001b[0;32m~/.conda/envs/csp_wiesner_johannes/lib/python3.8/site-packages/traits/trait_list_object.py:213\u001b[0m, in \u001b[0;36mTraitList.__init__\u001b[0;34m(self, iterable, item_validator, notifiers)\u001b[0m\n\u001b[1;32m    211\u001b[0m \u001b[39mif\u001b[39;00m item_validator \u001b[39mis\u001b[39;00m \u001b[39mnot\u001b[39;00m \u001b[39mNone\u001b[39;00m:\n\u001b[1;32m    212\u001b[0m     \u001b[39mself\u001b[39m\u001b[39m.\u001b[39mitem_validator \u001b[39m=\u001b[39m item_validator\n\u001b[0;32m--> 213\u001b[0m \u001b[39msuper\u001b[39;49m()\u001b[39m.\u001b[39;49m\u001b[39m__init__\u001b[39;49m(\u001b[39mself\u001b[39;49m\u001b[39m.\u001b[39;49mitem_validator(item) \u001b[39mfor\u001b[39;49;00m item \u001b[39min\u001b[39;49;00m iterable)\n\u001b[1;32m    214\u001b[0m \u001b[39mif\u001b[39;00m notifiers \u001b[39mis\u001b[39;00m \u001b[39mnot\u001b[39;00m \u001b[39mNone\u001b[39;00m:\n\u001b[1;32m    215\u001b[0m     \u001b[39mself\u001b[39m\u001b[39m.\u001b[39mnotifiers \u001b[39m=\u001b[39m \u001b[39mlist\u001b[39m(notifiers)\n",
      "File \u001b[0;32m~/.conda/envs/csp_wiesner_johannes/lib/python3.8/site-packages/traits/trait_list_object.py:213\u001b[0m, in \u001b[0;36m<genexpr>\u001b[0;34m(.0)\u001b[0m\n\u001b[1;32m    211\u001b[0m \u001b[39mif\u001b[39;00m item_validator \u001b[39mis\u001b[39;00m \u001b[39mnot\u001b[39;00m \u001b[39mNone\u001b[39;00m:\n\u001b[1;32m    212\u001b[0m     \u001b[39mself\u001b[39m\u001b[39m.\u001b[39mitem_validator \u001b[39m=\u001b[39m item_validator\n\u001b[0;32m--> 213\u001b[0m \u001b[39msuper\u001b[39m()\u001b[39m.\u001b[39m\u001b[39m__init__\u001b[39m(\u001b[39mself\u001b[39;49m\u001b[39m.\u001b[39;49mitem_validator(item) \u001b[39mfor\u001b[39;00m item \u001b[39min\u001b[39;00m iterable)\n\u001b[1;32m    214\u001b[0m \u001b[39mif\u001b[39;00m notifiers \u001b[39mis\u001b[39;00m \u001b[39mnot\u001b[39;00m \u001b[39mNone\u001b[39;00m:\n\u001b[1;32m    215\u001b[0m     \u001b[39mself\u001b[39m\u001b[39m.\u001b[39mnotifiers \u001b[39m=\u001b[39m \u001b[39mlist\u001b[39m(notifiers)\n",
      "File \u001b[0;32m~/.conda/envs/csp_wiesner_johannes/lib/python3.8/site-packages/traits/trait_list_object.py:865\u001b[0m, in \u001b[0;36mTraitListObject._item_validator\u001b[0;34m(self, value)\u001b[0m\n\u001b[1;32m    862\u001b[0m     \u001b[39mreturn\u001b[39;00m value\n\u001b[1;32m    864\u001b[0m \u001b[39mtry\u001b[39;00m:\n\u001b[0;32m--> 865\u001b[0m     \u001b[39mreturn\u001b[39;00m trait_validator(\u001b[39mobject\u001b[39;49m, \u001b[39mself\u001b[39;49m\u001b[39m.\u001b[39;49mname, value)\n\u001b[1;32m    866\u001b[0m \u001b[39mexcept\u001b[39;00m TraitError \u001b[39mas\u001b[39;00m excp:\n\u001b[1;32m    867\u001b[0m     excp\u001b[39m.\u001b[39mset_prefix(\u001b[39m\"\u001b[39m\u001b[39mEach element of the\u001b[39m\u001b[39m\"\u001b[39m)\n",
      "File \u001b[0;32m~/.conda/envs/csp_wiesner_johannes/lib/python3.8/site-packages/nipype/interfaces/base/traits_extension.py:334\u001b[0m, in \u001b[0;36mFile.validate\u001b[0;34m(self, objekt, name, value, return_pathlike)\u001b[0m\n\u001b[1;32m    332\u001b[0m     fname \u001b[39m=\u001b[39m value\u001b[39m.\u001b[39mname\n\u001b[1;32m    333\u001b[0m     \u001b[39mif\u001b[39;00m \u001b[39mnot\u001b[39;00m \u001b[39many\u001b[39m((fname\u001b[39m.\u001b[39mendswith(e) \u001b[39mfor\u001b[39;00m e \u001b[39min\u001b[39;00m \u001b[39mself\u001b[39m\u001b[39m.\u001b[39m_exts)):\n\u001b[0;32m--> 334\u001b[0m         \u001b[39mself\u001b[39;49m\u001b[39m.\u001b[39;49merror(objekt, name, \u001b[39mstr\u001b[39;49m(value))\n\u001b[1;32m    336\u001b[0m \u001b[39mif\u001b[39;00m \u001b[39mnot\u001b[39;00m return_pathlike:\n\u001b[1;32m    337\u001b[0m     value \u001b[39m=\u001b[39m \u001b[39mstr\u001b[39m(value)\n",
      "File \u001b[0;32m~/.conda/envs/csp_wiesner_johannes/lib/python3.8/site-packages/traits/base_trait_handler.py:74\u001b[0m, in \u001b[0;36mBaseTraitHandler.error\u001b[0;34m(self, object, name, value)\u001b[0m\n\u001b[1;32m     57\u001b[0m \u001b[39mdef\u001b[39;00m \u001b[39merror\u001b[39m(\u001b[39mself\u001b[39m, \u001b[39mobject\u001b[39m, name, value):\n\u001b[1;32m     58\u001b[0m \u001b[39m    \u001b[39m\u001b[39m\"\"\"Raises a TraitError exception.\u001b[39;00m\n\u001b[1;32m     59\u001b[0m \n\u001b[1;32m     60\u001b[0m \u001b[39m    This method is called by the validate() method when an assigned value\u001b[39;00m\n\u001b[0;32m   (...)\u001b[0m\n\u001b[1;32m     72\u001b[0m \u001b[39m        The proposed new value for the attribute.\u001b[39;00m\n\u001b[1;32m     73\u001b[0m \u001b[39m    \"\"\"\u001b[39;00m\n\u001b[0;32m---> 74\u001b[0m     \u001b[39mraise\u001b[39;00m TraitError(\n\u001b[1;32m     75\u001b[0m         \u001b[39mobject\u001b[39m, name, \u001b[39mself\u001b[39m\u001b[39m.\u001b[39mfull_info(\u001b[39mobject\u001b[39m, name, value), value\n\u001b[1;32m     76\u001b[0m     )\n",
      "\u001b[0;31mTraitError\u001b[0m: Each element of the 'in_files' trait of a SmoothInputSpec instance must be a pathlike object or string representing an existing file, but a value of '/home/johannes.wiesner/work/repos/workshop_cimh/workshop/courses/nipype/data/oasis1/oasis1/OAS1_0001_MR1/mwrc1OAS1_0001_MR1_mpr_anon_fslswapdim_bet.nii.gz' <class 'str'> was specified."
     ]
    }
   ],
   "source": [
    "## Let's smooth that image!\n",
    "from nipype import Node\n",
    "from nipype.interfaces.spm import Smooth\n",
    "from nipype.interfaces import spm\n",
    "spm.SPMCommand.set_mlab_paths(matlab_cmd='/opt/matlab/R2022a/bin/matlab', paths='/opt/matlab/toolboxes/spm12', use_mcr=False)\n",
    "import os\n",
    "\n",
    "# this works!\n",
    "#from nipype.algorithms.misc import Gunzip\n",
    "#gunzipper = Node(Gunzip(in_file=t1_image),name='gunzipper',base_dir='/home/johannes.wiesner/work/repos/workshop_cimh/workshop/courses/nipype/cache/')\n",
    "#gunzipper.run()\n",
    "\n",
    "\n",
    "smooth = Node(Smooth(fwhm=[4,4,5],in_files = t1_image),name='smooth',base_dir='/home/johannes.wiesner/work/repos/workshop_cimh/workshop/courses/nipype/cache/')\n",
    "smooth.run()"
   ]
  }
 ],
 "metadata": {
  "kernelspec": {
   "display_name": "Python 3 (ipykernel)",
   "language": "python",
   "name": "python3"
  },
  "language_info": {
   "codemirror_mode": {
    "name": "ipython",
    "version": 3
   },
   "file_extension": ".py",
   "mimetype": "text/x-python",
   "name": "python",
   "nbconvert_exporter": "python",
   "pygments_lexer": "ipython3",
   "version": "3.8.16"
  }
 },
 "nbformat": 4,
 "nbformat_minor": 5
}
