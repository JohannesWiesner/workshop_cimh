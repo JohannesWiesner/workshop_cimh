{
 "cells": [
  {
   "cell_type": "markdown",
   "id": "2a8e9245-65a8-4625-8ccd-066d9649036a",
   "metadata": {},
   "source": [
    "# Hands-On"
   ]
  },
  {
   "cell_type": "code",
   "execution_count": null,
   "id": "fb226c0a-9399-4d55-a472-a2b34047318b",
   "metadata": {},
   "outputs": [],
   "source": [
    "# Define a workflow that iterates over two subjects and then:\n",
    "# 1.) Skullstrip (using FSL BET)\n",
    "# 2.) Normalize (use ANTS): https://miykael.github.io/nipype_tutorial/notebooks/example_normalize.html#Normalization-with-ANTs\n",
    "# Use https://nipype.readthedocs.io/en/latest/api/generated/nipype.interfaces.ants.html#registrationsynquick otherwise it will take too long!\n",
    "\n",
    "#t1_image = '/home/johannes.wiesner/work/repos/workshop_cimh/workshop/courses/nipype/data/anatomical.nii'\n",
    "#import nipype.interfaces.fsl as fsl\n",
    "#mybet = fsl.BET(in_file=t1_image, out_file='bar.nii')\n",
    "#result = mybet.run()\n",
    "\n",
    "from nipype.interfaces.utility import Function,IdentityInterface, Rename\n",
    "from nipype.interfaces.io import BIDSDataGrabber\n",
    "from nipype import Workflow, Node\n",
    "\n",
    "data_dir = '/home/johannes.wiesner/work/repos/workshop_cimh/workshop/courses/nipype/data/bids_dataset/'\n",
    "cache_dir = '/home/johannes.wiesner/work/repos/workshop_cimh/workshop/courses/nipype/cache/'\n",
    "\n",
    "# create a node that iterates over the subject(s)\n",
    "subject_iterator = Node(IdentityInterface(fields=[\"subject_id\"]),name=\"subject_iterator\")\n",
    "subject_iterator.iterables = [(\"subject_id\",['01','02'])]\n",
    "\n",
    "# create a Node that takes in a BIDS-Dataset and returns data for one subject\n",
    "data_grabber = Node(BIDSDataGrabber(base_dir=data_dir,raise_on_empty=False),name='data_grabber')\n",
    "\n",
    "# define workflow\n",
    "wf = Workflow(name='anatomical_workflow',base_dir=cache_dir)\n",
    "wf.connect(subject_iterator,'subject_id',data_grabber,'subject')\n",
    "wf.run()\n",
    "\n",
    "\n",
    "import nipype.interfaces.fsl as fsl\n",
    "mybet = fsl.BET(in_file='/data/anatomical.nii', out_file='bar.nii')\n",
    "result = mybet.run()\n",
    "\n",
    "from nipype.interfaces.ants import RegistrationSynQuick\n",
    "reg = RegistrationSynQuick(moving_image='/data/anatomical.nii',fixed_image='/data/1mm_T1.nii.gz')\n",
    "result = reg.run()"
   ]
  }
 ],
 "metadata": {
  "kernelspec": {
   "display_name": "Python 3 (ipykernel)",
   "language": "python",
   "name": "python3"
  },
  "language_info": {
   "codemirror_mode": {
    "name": "ipython",
    "version": 3
   },
   "file_extension": ".py",
   "mimetype": "text/x-python",
   "name": "python",
   "nbconvert_exporter": "python",
   "pygments_lexer": "ipython3",
   "version": "3.10.10"
  }
 },
 "nbformat": 4,
 "nbformat_minor": 5
}
